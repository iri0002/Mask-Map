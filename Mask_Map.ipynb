{
  "nbformat": 4,
  "nbformat_minor": 0,
  "metadata": {
    "colab": {
      "provenance": [],
      "authorship_tag": "ABX9TyMimpxroHus+uj0dfM4034I",
      "include_colab_link": true
    },
    "kernelspec": {
      "name": "python3",
      "display_name": "Python 3"
    },
    "language_info": {
      "name": "python"
    }
  },
  "cells": [
    {
      "cell_type": "markdown",
      "metadata": {
        "id": "view-in-github",
        "colab_type": "text"
      },
      "source": [
        "<a href=\"https://colab.research.google.com/github/iri0002/Mask-Map/blob/main/Mask_Map.ipynb\" target=\"_parent\"><img src=\"https://colab.research.google.com/assets/colab-badge.svg\" alt=\"Open In Colab\"/></a>"
      ]
    },
    {
      "cell_type": "code",
      "execution_count": 1,
      "metadata": {
        "id": "_OuEFndSlllq"
      },
      "outputs": [],
      "source": [
        "import requests\n",
        "import json\n",
        "\n",
        "# 利用 requests 對 API 來源發送一個請求\n",
        "url = 'https://raw.githubusercontent.com/kiang/pharmacies/master/json/points.json'\n",
        "response = requests.get(url)\n",
        "\n",
        "# 將請求回應的內容存成一個字串格式\n",
        "d = response.text\n",
        "\n",
        "# 將長得像 json 格式的字串解析成字典或列表\n",
        "data = json.loads(d)\n",
        "\n",
        "#print(data)"
      ]
    },
    {
      "cell_type": "code",
      "source": [
        "med_count = {}\n",
        "\n",
        "# 填入欄位名稱\n",
        "for d in data['features']:\n",
        "    county = d['properties']['address'][:3]\n",
        "    if county not in med_count:\n",
        "        med_count[county] = 0\n",
        "    else:\n",
        "        med_count[county] += 1\n",
        "\n",
        "print(med_count)\n",
        "# {'台北市': 123, '新北市': 456 ...}"
      ],
      "metadata": {
        "colab": {
          "base_uri": "https://localhost:8080/"
        },
        "id": "JkhZ96PJIF8v",
        "outputId": "d0e329a7-2f40-4794-cabd-fb77a97e3f89"
      },
      "execution_count": 2,
      "outputs": [
        {
          "output_type": "stream",
          "name": "stdout",
          "text": [
            "{'臺北市': 339, '高雄市': 423, '臺中市': 435, '臺南市': 279, '基隆市': 56, '新竹市': 38, '嘉義市': 66, '新北市': 506, '桃園市': 270, '新竹縣': 47, '宜蘭縣': 75, '苗栗縣': 56, '彰化縣': 180, '南投縣': 66, '雲林縣': 130, '嘉義縣': 83, '屏東縣': 139, '澎湖縣': 10, '花蓮縣': 46, '臺東縣': 22, '金門縣': 5, '連江縣': 0}\n"
          ]
        }
      ]
    },
    {
      "cell_type": "code",
      "source": [
        "mask_count = {}\n",
        "\n",
        "# 填入欄位名稱\n",
        "for d in data['features']:\n",
        "    county = d['properties']['address'][:3]\n",
        "    adult = d['properties']['mask_adult']\n",
        "    if county not in mask_count:\n",
        "        mask_count[county] = adult\n",
        "    else:\n",
        "        mask_count[county] += adult\n",
        "\n",
        "# 將結果從大到小排列\n",
        "mask_count = dict(sorted(mask_count.items(), key=lambda item: item[1], reverse = True))\n",
        "\n",
        "print(mask_count)\n",
        "# {'台北市': 12345, '新北市': 45678 ...}"
      ],
      "metadata": {
        "colab": {
          "base_uri": "https://localhost:8080/"
        },
        "id": "aOgEQQmNM8ES",
        "outputId": "08ef0897-4db0-4238-a2c9-33be2d6edaa1"
      },
      "execution_count": 3,
      "outputs": [
        {
          "output_type": "stream",
          "name": "stdout",
          "text": [
            "{'新北市': 677660, '臺中市': 556440, '高雄市': 428940, '臺南市': 408400, '桃園市': 345600, '臺北市': 323660, '彰化縣': 219400, '雲林縣': 199470, '屏東縣': 184250, '苗栗縣': 134180, '嘉義縣': 113180, '嘉義市': 107840, '宜蘭縣': 106900, '南投縣': 91240, '基隆市': 80100, '花蓮縣': 57330, '新竹縣': 53760, '新竹市': 45630, '臺東縣': 28510, '金門縣': 15510, '澎湖縣': 12600, '連江縣': 7930}\n"
          ]
        }
      ]
    },
    {
      "cell_type": "code",
      "source": [
        "import sqlite3\n",
        "import datetime\n",
        "\n",
        "conn = sqlite3.connect('mask_map.db')\n",
        "c = conn.cursor()\n",
        "\n",
        "# 新增且清空資料表\n",
        "c.execute('''CREATE TABLE IF NOT EXISTS pharmacies\n",
        "             (city text, counts text)''')\n",
        "c.execute('''DELETE FROM pharmacies''')\n",
        "conn.commit()\n",
        "\n",
        "# 新增資料\n",
        "for city,counts in med_count.items():\n",
        "    t = datetime.datetime.now()\n",
        "    print(f\"INSERT INTO stocks VALUES ('{city}', {counts}, '{t}')\")\n",
        "    c.execute(f\"INSERT INTO pharmacies VALUES ('{city}', {counts}, '{t}')\")\n",
        "conn.commit()\n",
        "\n",
        "# 查詢資料\n",
        "c.execute(\"SELECT * FROM pharmacies\")\n",
        "print(c.fetchall())\n",
        "\n",
        "conn.commit()\n",
        "conn.close()"
      ],
      "metadata": {
        "colab": {
          "base_uri": "https://localhost:8080/"
        },
        "id": "LLxw2EBU8JH6",
        "outputId": "61d54733-806c-446e-841a-b9fd9e478df1"
      },
      "execution_count": 19,
      "outputs": [
        {
          "output_type": "stream",
          "name": "stdout",
          "text": [
            "INSERT INTO stocks VALUES ('臺北市', 339, '2023-06-07 09:17:21.153945')\n",
            "INSERT INTO stocks VALUES ('高雄市', 423, '2023-06-07 09:17:21.155288')\n",
            "INSERT INTO stocks VALUES ('臺中市', 435, '2023-06-07 09:17:21.155988')\n",
            "INSERT INTO stocks VALUES ('臺南市', 279, '2023-06-07 09:17:21.156472')\n",
            "INSERT INTO stocks VALUES ('基隆市', 56, '2023-06-07 09:17:21.156936')\n",
            "INSERT INTO stocks VALUES ('新竹市', 38, '2023-06-07 09:17:21.157375')\n",
            "INSERT INTO stocks VALUES ('嘉義市', 66, '2023-06-07 09:17:21.157880')\n",
            "INSERT INTO stocks VALUES ('新北市', 506, '2023-06-07 09:17:21.158317')\n",
            "INSERT INTO stocks VALUES ('桃園市', 270, '2023-06-07 09:17:21.158789')\n",
            "INSERT INTO stocks VALUES ('新竹縣', 47, '2023-06-07 09:17:21.159226')\n",
            "INSERT INTO stocks VALUES ('宜蘭縣', 75, '2023-06-07 09:17:21.159692')\n",
            "INSERT INTO stocks VALUES ('苗栗縣', 56, '2023-06-07 09:17:21.160126')\n",
            "INSERT INTO stocks VALUES ('彰化縣', 180, '2023-06-07 09:17:21.160599')\n",
            "INSERT INTO stocks VALUES ('南投縣', 66, '2023-06-07 09:17:21.160863')\n",
            "INSERT INTO stocks VALUES ('雲林縣', 130, '2023-06-07 09:17:21.160910')\n",
            "INSERT INTO stocks VALUES ('嘉義縣', 83, '2023-06-07 09:17:21.160951')\n",
            "INSERT INTO stocks VALUES ('屏東縣', 139, '2023-06-07 09:17:21.160992')\n",
            "INSERT INTO stocks VALUES ('澎湖縣', 10, '2023-06-07 09:17:21.161032')\n",
            "INSERT INTO stocks VALUES ('花蓮縣', 46, '2023-06-07 09:17:21.161072')\n",
            "INSERT INTO stocks VALUES ('臺東縣', 22, '2023-06-07 09:17:21.161112')\n",
            "INSERT INTO stocks VALUES ('金門縣', 5, '2023-06-07 09:17:21.161153')\n",
            "INSERT INTO stocks VALUES ('連江縣', 0, '2023-06-07 09:17:21.161192')\n",
            "[('臺北市', '339', '2023-06-07 09:17:21.153945'), ('高雄市', '423', '2023-06-07 09:17:21.155288'), ('臺中市', '435', '2023-06-07 09:17:21.155988'), ('臺南市', '279', '2023-06-07 09:17:21.156472'), ('基隆市', '56', '2023-06-07 09:17:21.156936'), ('新竹市', '38', '2023-06-07 09:17:21.157375'), ('嘉義市', '66', '2023-06-07 09:17:21.157880'), ('新北市', '506', '2023-06-07 09:17:21.158317'), ('桃園市', '270', '2023-06-07 09:17:21.158789'), ('新竹縣', '47', '2023-06-07 09:17:21.159226'), ('宜蘭縣', '75', '2023-06-07 09:17:21.159692'), ('苗栗縣', '56', '2023-06-07 09:17:21.160126'), ('彰化縣', '180', '2023-06-07 09:17:21.160599'), ('南投縣', '66', '2023-06-07 09:17:21.160863'), ('雲林縣', '130', '2023-06-07 09:17:21.160910'), ('嘉義縣', '83', '2023-06-07 09:17:21.160951'), ('屏東縣', '139', '2023-06-07 09:17:21.160992'), ('澎湖縣', '10', '2023-06-07 09:17:21.161032'), ('花蓮縣', '46', '2023-06-07 09:17:21.161072'), ('臺東縣', '22', '2023-06-07 09:17:21.161112'), ('金門縣', '5', '2023-06-07 09:17:21.161153'), ('連江縣', '0', '2023-06-07 09:17:21.161192')]\n"
          ]
        }
      ]
    }
  ]
}