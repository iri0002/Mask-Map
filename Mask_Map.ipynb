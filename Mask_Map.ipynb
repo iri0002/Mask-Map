{
  "nbformat": 4,
  "nbformat_minor": 0,
  "metadata": {
    "colab": {
      "provenance": [],
      "authorship_tag": "ABX9TyPvaHb4gbbUulsaMXVOBDdd",
      "include_colab_link": true
    },
    "kernelspec": {
      "name": "python3",
      "display_name": "Python 3"
    },
    "language_info": {
      "name": "python"
    }
  },
  "cells": [
    {
      "cell_type": "markdown",
      "metadata": {
        "id": "view-in-github",
        "colab_type": "text"
      },
      "source": [
        "<a href=\"https://colab.research.google.com/github/iri0002/Mask-Map/blob/main/Mask_Map.ipynb\" target=\"_parent\"><img src=\"https://colab.research.google.com/assets/colab-badge.svg\" alt=\"Open In Colab\"/></a>"
      ]
    },
    {
      "cell_type": "code",
      "execution_count": 1,
      "metadata": {
        "id": "_OuEFndSlllq"
      },
      "outputs": [],
      "source": [
        "import requests\n",
        "import json\n",
        "\n",
        "# 利用 requests 對 API 來源發送一個請求\n",
        "url = 'https://raw.githubusercontent.com/kiang/pharmacies/master/json/points.json'\n",
        "response = requests.get(url)\n",
        "\n",
        "# 將請求回應的內容存成一個字串格式\n",
        "d = response.text\n",
        "\n",
        "# 將長得像 json 格式的字串解析成字典或列表\n",
        "data = json.loads(d)\n",
        "\n",
        "#print(data)"
      ]
    },
    {
      "cell_type": "code",
      "source": [
        "med_count = {}\n",
        "\n",
        "# 填入欄位名稱\n",
        "for d in data['features']:\n",
        "    county = d['properties']['address'][:3]\n",
        "    if county not in med_count:\n",
        "        med_count[county] = 0\n",
        "    else:\n",
        "        med_count[county] += 1\n",
        "\n",
        "print(med_count)\n",
        "# {'台北市': 123, '新北市': 456 ...}"
      ],
      "metadata": {
        "colab": {
          "base_uri": "https://localhost:8080/"
        },
        "id": "JkhZ96PJIF8v",
        "outputId": "d0e329a7-2f40-4794-cabd-fb77a97e3f89"
      },
      "execution_count": 2,
      "outputs": [
        {
          "output_type": "stream",
          "name": "stdout",
          "text": [
            "{'臺北市': 339, '高雄市': 423, '臺中市': 435, '臺南市': 279, '基隆市': 56, '新竹市': 38, '嘉義市': 66, '新北市': 506, '桃園市': 270, '新竹縣': 47, '宜蘭縣': 75, '苗栗縣': 56, '彰化縣': 180, '南投縣': 66, '雲林縣': 130, '嘉義縣': 83, '屏東縣': 139, '澎湖縣': 10, '花蓮縣': 46, '臺東縣': 22, '金門縣': 5, '連江縣': 0}\n"
          ]
        }
      ]
    },
    {
      "cell_type": "code",
      "source": [
        "mask_count = {}\n",
        "\n",
        "# 填入欄位名稱\n",
        "for d in data['features']:\n",
        "    county = d['properties']['address'][:3]\n",
        "    adult = d['properties']['mask_adult']\n",
        "    if county not in mask_count:\n",
        "        mask_count[county] = adult\n",
        "    else:\n",
        "        mask_count[county] += adult\n",
        "\n",
        "# 將結果從大到小排列\n",
        "mask_count = dict(sorted(mask_count.items(), key=lambda item: item[1], reverse = True))\n",
        "\n",
        "print(mask_count)\n",
        "# {'台北市': 12345, '新北市': 45678 ...}"
      ],
      "metadata": {
        "colab": {
          "base_uri": "https://localhost:8080/"
        },
        "id": "aOgEQQmNM8ES",
        "outputId": "08ef0897-4db0-4238-a2c9-33be2d6edaa1"
      },
      "execution_count": 3,
      "outputs": [
        {
          "output_type": "stream",
          "name": "stdout",
          "text": [
            "{'新北市': 677660, '臺中市': 556440, '高雄市': 428940, '臺南市': 408400, '桃園市': 345600, '臺北市': 323660, '彰化縣': 219400, '雲林縣': 199470, '屏東縣': 184250, '苗栗縣': 134180, '嘉義縣': 113180, '嘉義市': 107840, '宜蘭縣': 106900, '南投縣': 91240, '基隆市': 80100, '花蓮縣': 57330, '新竹縣': 53760, '新竹市': 45630, '臺東縣': 28510, '金門縣': 15510, '澎湖縣': 12600, '連江縣': 7930}\n"
          ]
        }
      ]
    },
    {
      "cell_type": "code",
      "source": [
        "import sqlite3\n",
        "import datetime\n",
        "\n",
        "conn = sqlite3.connect('mask_map.db')\n",
        "c = conn.cursor()\n",
        "\n",
        "# 新增且清空資料表\n",
        "c.execute('''CREATE TABLE IF NOT EXISTS pharmacies\n",
        "             (city text, counts text, createdAt datetime)''')\n",
        "c.execute('''DELETE FROM pharmacies''')\n",
        "conn.commit()\n",
        "\n",
        "# 新增資料\n",
        "for city,counts in med_count.items():\n",
        "    t = datetime.datetime.now()\n",
        "    print(f\"INSERT INTO stocks VALUES ('{city}', {counts}, '{t}')\")\n",
        "    c.execute(f\"INSERT INTO pharmacies VALUES ('{city}', {counts}, '{t}')\")\n",
        "conn.commit()\n",
        "\n",
        "# 查詢資料\n",
        "c.execute(\"SELECT * FROM pharmacies\")\n",
        "print(c.fetchall())\n",
        "\n",
        "conn.commit()\n",
        "conn.close()"
      ],
      "metadata": {
        "colab": {
          "base_uri": "https://localhost:8080/"
        },
        "id": "LLxw2EBU8JH6",
        "outputId": "262dbdb6-68ad-46d8-ccbf-f693a9731e0b"
      },
      "execution_count": 20,
      "outputs": [
        {
          "output_type": "stream",
          "name": "stdout",
          "text": [
            "INSERT INTO stocks VALUES ('臺北市', 339, '2023-06-07 09:22:29.616968')\n",
            "INSERT INTO stocks VALUES ('高雄市', 423, '2023-06-07 09:22:29.617961')\n",
            "INSERT INTO stocks VALUES ('臺中市', 435, '2023-06-07 09:22:29.618357')\n",
            "INSERT INTO stocks VALUES ('臺南市', 279, '2023-06-07 09:22:29.618757')\n",
            "INSERT INTO stocks VALUES ('基隆市', 56, '2023-06-07 09:22:29.619035')\n",
            "INSERT INTO stocks VALUES ('新竹市', 38, '2023-06-07 09:22:29.619332')\n",
            "INSERT INTO stocks VALUES ('嘉義市', 66, '2023-06-07 09:22:29.619628')\n",
            "INSERT INTO stocks VALUES ('新北市', 506, '2023-06-07 09:22:29.619894')\n",
            "INSERT INTO stocks VALUES ('桃園市', 270, '2023-06-07 09:22:29.620168')\n",
            "INSERT INTO stocks VALUES ('新竹縣', 47, '2023-06-07 09:22:29.620459')\n",
            "INSERT INTO stocks VALUES ('宜蘭縣', 75, '2023-06-07 09:22:29.620738')\n",
            "INSERT INTO stocks VALUES ('苗栗縣', 56, '2023-06-07 09:22:29.620994')\n",
            "INSERT INTO stocks VALUES ('彰化縣', 180, '2023-06-07 09:22:29.621260')\n",
            "INSERT INTO stocks VALUES ('南投縣', 66, '2023-06-07 09:22:29.621593')\n",
            "INSERT INTO stocks VALUES ('雲林縣', 130, '2023-06-07 09:22:29.621872')\n",
            "INSERT INTO stocks VALUES ('嘉義縣', 83, '2023-06-07 09:22:29.622134')\n",
            "INSERT INTO stocks VALUES ('屏東縣', 139, '2023-06-07 09:22:29.622388')\n",
            "INSERT INTO stocks VALUES ('澎湖縣', 10, '2023-06-07 09:22:29.622689')\n",
            "INSERT INTO stocks VALUES ('花蓮縣', 46, '2023-06-07 09:22:29.622947')\n",
            "INSERT INTO stocks VALUES ('臺東縣', 22, '2023-06-07 09:22:29.623105')\n",
            "INSERT INTO stocks VALUES ('金門縣', 5, '2023-06-07 09:22:29.623137')\n",
            "INSERT INTO stocks VALUES ('連江縣', 0, '2023-06-07 09:22:29.623165')\n",
            "[('臺北市', '339', '2023-06-07 09:22:29.616968'), ('高雄市', '423', '2023-06-07 09:22:29.617961'), ('臺中市', '435', '2023-06-07 09:22:29.618357'), ('臺南市', '279', '2023-06-07 09:22:29.618757'), ('基隆市', '56', '2023-06-07 09:22:29.619035'), ('新竹市', '38', '2023-06-07 09:22:29.619332'), ('嘉義市', '66', '2023-06-07 09:22:29.619628'), ('新北市', '506', '2023-06-07 09:22:29.619894'), ('桃園市', '270', '2023-06-07 09:22:29.620168'), ('新竹縣', '47', '2023-06-07 09:22:29.620459'), ('宜蘭縣', '75', '2023-06-07 09:22:29.620738'), ('苗栗縣', '56', '2023-06-07 09:22:29.620994'), ('彰化縣', '180', '2023-06-07 09:22:29.621260'), ('南投縣', '66', '2023-06-07 09:22:29.621593'), ('雲林縣', '130', '2023-06-07 09:22:29.621872'), ('嘉義縣', '83', '2023-06-07 09:22:29.622134'), ('屏東縣', '139', '2023-06-07 09:22:29.622388'), ('澎湖縣', '10', '2023-06-07 09:22:29.622689'), ('花蓮縣', '46', '2023-06-07 09:22:29.622947'), ('臺東縣', '22', '2023-06-07 09:22:29.623105'), ('金門縣', '5', '2023-06-07 09:22:29.623137'), ('連江縣', '0', '2023-06-07 09:22:29.623165')]\n"
          ]
        }
      ]
    },
    {
      "cell_type": "code",
      "source": [
        "import sqlite3\n",
        "import datetime\n",
        "\n",
        "conn = sqlite3.connect('example.db')\n",
        "c = conn.cursor()\n",
        "\n",
        "# 新增且清空資料表\n",
        "c.execute('''CREATE TABLE IF NOT EXISTS masks\n",
        "             (city text, counts text, createdAt datetime)''')\n",
        "c.execute('''DELETE FROM masks''')\n",
        "conn.commit()\n",
        "\n",
        "# 新增資料\n",
        "for city,counts in mask_count.items():\n",
        "  t = datetime.datetime.now()\n",
        "  c.execute(f\"INSERT INTO masks VALUES ('{city}', {counts}, '{t}')\")\n",
        "  conn.commit()\n",
        "\n",
        "# 查詢資料\n",
        "c.execute(\"SELECT * FROM masks\")\n",
        "print(c.fetchall())\n",
        "\n",
        "conn.commit()\n",
        "conn.close()"
      ],
      "metadata": {
        "colab": {
          "base_uri": "https://localhost:8080/"
        },
        "id": "yjr7Lj3VJ5B4",
        "outputId": "c4453bbe-15b4-44fd-af2d-7b1439275e69"
      },
      "execution_count": 22,
      "outputs": [
        {
          "output_type": "stream",
          "name": "stdout",
          "text": [
            "[('新北市', '677660', '2023-06-07 09:25:19.843138'), ('臺中市', '556440', '2023-06-07 09:25:19.852892'), ('高雄市', '428940', '2023-06-07 09:25:19.860743'), ('臺南市', '408400', '2023-06-07 09:25:19.870190'), ('桃園市', '345600', '2023-06-07 09:25:19.877985'), ('臺北市', '323660', '2023-06-07 09:25:19.886061'), ('彰化縣', '219400', '2023-06-07 09:25:19.893590'), ('雲林縣', '199470', '2023-06-07 09:25:19.899816'), ('屏東縣', '184250', '2023-06-07 09:25:19.907405'), ('苗栗縣', '134180', '2023-06-07 09:25:19.914902'), ('嘉義縣', '113180', '2023-06-07 09:25:19.922983'), ('嘉義市', '107840', '2023-06-07 09:25:19.930836'), ('宜蘭縣', '106900', '2023-06-07 09:25:19.938740'), ('南投縣', '91240', '2023-06-07 09:25:19.946160'), ('基隆市', '80100', '2023-06-07 09:25:19.954410'), ('花蓮縣', '57330', '2023-06-07 09:25:19.962593'), ('新竹縣', '53760', '2023-06-07 09:25:19.970596'), ('新竹市', '45630', '2023-06-07 09:25:19.979484'), ('臺東縣', '28510', '2023-06-07 09:25:19.986687'), ('金門縣', '15510', '2023-06-07 09:25:19.994135'), ('澎湖縣', '12600', '2023-06-07 09:25:20.002605'), ('連江縣', '7930', '2023-06-07 09:25:20.011275')]\n"
          ]
        }
      ]
    }
  ]
}